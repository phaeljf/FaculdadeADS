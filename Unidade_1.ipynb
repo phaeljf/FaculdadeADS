{
  "nbformat": 4,
  "nbformat_minor": 0,
  "metadata": {
    "colab": {
      "provenance": [],
      "authorship_tag": "ABX9TyPLAljK0Cp5/XXhPI+XdB9h",
      "include_colab_link": true
    },
    "kernelspec": {
      "name": "python3",
      "display_name": "Python 3"
    },
    "language_info": {
      "name": "python"
    }
  },
  "cells": [
    {
      "cell_type": "markdown",
      "metadata": {
        "id": "view-in-github",
        "colab_type": "text"
      },
      "source": [
        "<a href=\"https://colab.research.google.com/github/phaeljf/FaculdadeADS/blob/main/Unidade_1.ipynb\" target=\"_parent\"><img src=\"https://colab.research.google.com/assets/colab-badge.svg\" alt=\"Open In Colab\"/></a>"
      ]
    },
    {
      "cell_type": "code",
      "execution_count": null,
      "metadata": {
        "colab": {
          "base_uri": "https://localhost:8080/"
        },
        "id": "3dKhxSyMvOzb",
        "outputId": "39613a25-0d29-4bc5-a0fa-f6a15fb3a9aa"
      },
      "outputs": [
        {
          "output_type": "stream",
          "name": "stdout",
          "text": [
            "Hello World\n"
          ]
        },
        {
          "output_type": "execute_result",
          "data": {
            "text/plain": [
              "4"
            ]
          },
          "metadata": {},
          "execution_count": 5
        }
      ],
      "source": [
        "print (\"Hello World\")\n",
        "\n",
        "def soma(a, b):\n",
        "  return a + b\n",
        "\n"
      ]
    },
    {
      "cell_type": "code",
      "source": [],
      "metadata": {
        "id": "s1F2vyQIthWx"
      },
      "execution_count": null,
      "outputs": []
    },
    {
      "cell_type": "code",
      "source": [
        "soma (3,1)"
      ],
      "metadata": {
        "colab": {
          "base_uri": "https://localhost:8080/"
        },
        "id": "bCchM9-IwZcg",
        "outputId": "24d87ed4-c07f-4c67-b0ff-8f2553d376fd"
      },
      "execution_count": null,
      "outputs": [
        {
          "output_type": "execute_result",
          "data": {
            "text/plain": [
              "9"
            ]
          },
          "metadata": {},
          "execution_count": 8
        }
      ]
    },
    {
      "cell_type": "code",
      "source": [
        "nome = input()\n",
        "\n",
        "print(nome)\n",
        "\n",
        "print(\"Olá, %s, bem-vindo à disciplina de programação. Parabéns pelo seu primeiro hello world\" % (nome))\n",
        "\n",
        "print(f'Hello World, {nome}')"
      ],
      "metadata": {
        "colab": {
          "base_uri": "https://localhost:8080/"
        },
        "id": "3zGihkr03PJ3",
        "outputId": "a3a62f5f-1c32-4c2e-a8b1-e8473eefaca4"
      },
      "execution_count": null,
      "outputs": [
        {
          "output_type": "stream",
          "name": "stdout",
          "text": [
            "Rapha\n",
            "Rapha\n",
            "Olá, Rapha, bem-vindo à disciplina de programação. Parabéns pelo seu primeiro hello world\n",
            "Hello World, Rapha\n"
          ]
        }
      ]
    },
    {
      "cell_type": "code",
      "source": [
        "a = 12\n",
        "b = 3\n",
        "f'Se a = {a} e b = {b}, então a soma é {a+b}'"
      ],
      "metadata": {
        "colab": {
          "base_uri": "https://localhost:8080/",
          "height": 35
        },
        "id": "Y4XZEJKx5gcQ",
        "outputId": "ea49950c-0fc8-4dd9-af1b-31a69c20c539"
      },
      "execution_count": null,
      "outputs": [
        {
          "output_type": "execute_result",
          "data": {
            "text/plain": [
              "'Se a = 12 e b = 3, então a soma é 15'"
            ],
            "application/vnd.google.colaboratory.intrinsic+json": {
              "type": "string"
            }
          },
          "metadata": {},
          "execution_count": 27
        }
      ]
    },
    {
      "cell_type": "code",
      "source": [
        "Nota1 = int(input())\n",
        "Nota2 = int(input())\n",
        "Nota3 = int(input())\n",
        "Nota4 = int(input())\n",
        "\n",
        "media = ((Nota1 + Nota2 + Nota3 + Nota4)/4)\n",
        "\n",
        "print(media)\n",
        "\n",
        "resultado1 = \"Aprovado\" if media >= 6 else \"Reprovado\"\n",
        "print(resultado1)"
      ],
      "metadata": {
        "colab": {
          "base_uri": "https://localhost:8080/"
        },
        "id": "jJBiYySa6hJw",
        "outputId": "39306370-0085-402d-facf-51ce762702b9"
      },
      "execution_count": null,
      "outputs": [
        {
          "output_type": "stream",
          "name": "stdout",
          "text": [
            "5\n",
            "7\n",
            "4\n",
            "9\n",
            "6.25\n",
            "Aprovado\n"
          ]
        }
      ]
    },
    {
      "cell_type": "code",
      "source": [],
      "metadata": {
        "id": "rYNO22M5Dd4z"
      },
      "execution_count": null,
      "outputs": []
    },
    {
      "cell_type": "code",
      "source": [
        "1>2"
      ],
      "metadata": {
        "colab": {
          "base_uri": "https://localhost:8080/"
        },
        "id": "2j79-q8s9H1W",
        "outputId": "fa216a4b-6925-4822-cc3e-9d12675219aa"
      },
      "execution_count": null,
      "outputs": [
        {
          "output_type": "execute_result",
          "data": {
            "text/plain": [
              "False"
            ]
          },
          "metadata": {},
          "execution_count": 35
        }
      ]
    },
    {
      "cell_type": "code",
      "source": [
        "a=3\n",
        "b=7\n",
        "a<b"
      ],
      "metadata": {
        "colab": {
          "base_uri": "https://localhost:8080/"
        },
        "id": "wTkfff3G-MUn",
        "outputId": "8023a52f-a696-493f-a6f3-05bed49585a7"
      },
      "execution_count": null,
      "outputs": [
        {
          "output_type": "execute_result",
          "data": {
            "text/plain": [
              "True"
            ]
          },
          "metadata": {},
          "execution_count": 37
        }
      ]
    },
    {
      "cell_type": "code",
      "source": [
        "1 == 2"
      ],
      "metadata": {
        "colab": {
          "base_uri": "https://localhost:8080/"
        },
        "id": "yI2so4Jj-S5J",
        "outputId": "7a4658cf-d835-4ac3-9dde-335f0be2650c"
      },
      "execution_count": null,
      "outputs": [
        {
          "output_type": "execute_result",
          "data": {
            "text/plain": [
              "False"
            ]
          },
          "metadata": {},
          "execution_count": 38
        }
      ]
    },
    {
      "cell_type": "code",
      "source": [
        "a = 'Aluna'\n",
        "b = 'aluna'\n",
        "\n",
        "a is b"
      ],
      "metadata": {
        "colab": {
          "base_uri": "https://localhost:8080/"
        },
        "id": "G2QPFZZL-XQj",
        "outputId": "f67748ed-496c-4d6d-be8f-bebf26ab7270"
      },
      "execution_count": null,
      "outputs": [
        {
          "output_type": "execute_result",
          "data": {
            "text/plain": [
              "False"
            ]
          },
          "metadata": {},
          "execution_count": 47
        }
      ]
    },
    {
      "cell_type": "code",
      "source": [
        "sinal = (input())\n",
        "\n",
        "resultado = \"Siga\" if sinal == 'Verde' else \"Pare\"\n",
        "print(resultado)"
      ],
      "metadata": {
        "colab": {
          "base_uri": "https://localhost:8080/"
        },
        "id": "6kRZ5fOx_4dN",
        "outputId": "a1b0a0c2-960f-48b0-cd77-e66883945125"
      },
      "execution_count": null,
      "outputs": [
        {
          "output_type": "stream",
          "name": "stdout",
          "text": [
            "Verde\n",
            "Siga\n"
          ]
        }
      ]
    },
    {
      "cell_type": "code",
      "source": [
        "idade = int(input())\n",
        "\n",
        "if idade < 13:\n",
        "  print(\"Criança\")\n",
        "elif idade >= 13 and idade <=18:\n",
        "  print(\"Adolescente\")\n",
        "elif idade > 18 and idade <=59:\n",
        "  print(\"Adulto\")\n",
        "else:\n",
        "    print(\"Idoso\")\n"
      ],
      "metadata": {
        "colab": {
          "base_uri": "https://localhost:8080/"
        },
        "id": "j-rFkSLeDVKH",
        "outputId": "c478d8db-54cd-4be7-ce00-9728adc37fa3"
      },
      "execution_count": null,
      "outputs": [
        {
          "output_type": "stream",
          "name": "stdout",
          "text": [
            "12\n",
            "Criança\n"
          ]
        }
      ]
    },
    {
      "cell_type": "code",
      "source": [
        "# prompt: Bem-vindo à Máquina de Vnda Automática de Ingressos do Cine Max!\n",
        "\n",
        "#Solicite a idade do cliente\n",
        "idade = int(input(\"Por favor, digite sua idade: \"))\n",
        "\n",
        "#Verifica a idade e sugestão de filme\n",
        "if idade < 12:\n",
        "  print(\"Recomendamos filme infantil FILME1\")\n",
        "elif idade >= 12 and idade < 18:\n",
        "  print(\"Recomendamos o filme adolescente FILME2\")\n",
        "else:\n",
        "  print(\"Recomendamos o emocionante FILME3\")\n",
        "\n",
        "#Verifica a disponibilidade de ingresso\n",
        "  quantidade_ingresso = 0 #Suponha que haja 10 ingressos disponiveis\n",
        "  if quantidade_ingresso > 0:\n",
        "    print(\"Há ingressos disponíveis\")\n",
        "  else:\n",
        "    print(\"Não há ingressos disponíveis\")\n"
      ],
      "metadata": {
        "colab": {
          "base_uri": "https://localhost:8080/"
        },
        "id": "Y4E5HIzfGYMQ",
        "outputId": "abc0eec3-051c-444d-a226-dd72b06b3080"
      },
      "execution_count": null,
      "outputs": [
        {
          "output_type": "stream",
          "name": "stdout",
          "text": [
            "Por favor, digite sua idade: 25\n",
            "Recomendamos o emocionante FILME3\n",
            "Não há ingressos disponíveis\n"
          ]
        }
      ]
    },
    {
      "cell_type": "code",
      "source": [
        "# prompt: crie um sinal usando break com sinal verde amarelo e vermelho\n",
        "\n",
        "while True:\n",
        "  sinal = input(\"Digite a cor do sinal (verde, amarelo, vermelho): \")\n",
        "  if sinal == \"verde\":\n",
        "    print(\"Siga!\")\n",
        "  elif sinal == \"amarelo\":\n",
        "    print(\"Atenção!\")\n",
        "  elif sinal == \"vermelho\":\n",
        "    print(\"Pare!\")\n",
        "    break\n",
        "  else:\n",
        "    print(\"Cor inválida!\")\n"
      ],
      "metadata": {
        "colab": {
          "base_uri": "https://localhost:8080/"
        },
        "id": "VDppvKPQKAcv",
        "outputId": "451b6b7f-06b3-49b2-d1d5-bd4e7997c1d0"
      },
      "execution_count": null,
      "outputs": [
        {
          "output_type": "stream",
          "name": "stdout",
          "text": [
            "Digite a cor do sinal (verde, amarelo, vermelho): vermelho\n",
            "Pare!\n"
          ]
        }
      ]
    },
    {
      "cell_type": "code",
      "source": [
        "numeros = [1,2,3,4,5]"
      ],
      "metadata": {
        "colab": {
          "base_uri": "https://localhost:8080/"
        },
        "id": "bvTuEtpaKfKx",
        "outputId": "f6a3a352-6697-425d-c324-1104efb9dc77"
      },
      "execution_count": null,
      "outputs": [
        {
          "output_type": "execute_result",
          "data": {
            "text/plain": [
              "[1, 2, 3, 4, 5]"
            ]
          },
          "metadata": {},
          "execution_count": 67
        }
      ]
    },
    {
      "cell_type": "code",
      "source": [
        "for num in numeros:\n",
        "  print(num)"
      ],
      "metadata": {
        "colab": {
          "base_uri": "https://localhost:8080/"
        },
        "id": "2Zvx660DLB5V",
        "outputId": "974d0d75-5220-4cb6-977f-dd3e14defbc2"
      },
      "execution_count": null,
      "outputs": [
        {
          "output_type": "stream",
          "name": "stdout",
          "text": [
            "1\n",
            "2\n",
            "3\n",
            "4\n",
            "5\n"
          ]
        }
      ]
    },
    {
      "cell_type": "code",
      "source": [
        "numero = int(input(\"Digite um número ou 0 para sair: \"))\n",
        "\n",
        "while numero != 0:  # Verifica se o número é 0 (inteiro)\n",
        "    if numero % 2 == 0:\n",
        "        print(f\"{numero} é par\")\n",
        "    else:\n",
        "        print(f\"{numero} é ímpar\")\n",
        "\n",
        "    # Solicita um novo número para a próxima iteração\n",
        "    numero = int(input(\"Digite um número ou 0 para sair: \"))"
      ],
      "metadata": {
        "colab": {
          "base_uri": "https://localhost:8080/"
        },
        "id": "tDs7yM6fNOio",
        "outputId": "a1383969-18ca-411b-b095-f6f83b6267f9"
      },
      "execution_count": null,
      "outputs": [
        {
          "name": "stdout",
          "output_type": "stream",
          "text": [
            "Digite um número ou 0 para sair: 5\n",
            "5 é ímpar\n",
            "Digite um número ou 0 para sair: 0\n"
          ]
        }
      ]
    },
    {
      "cell_type": "code",
      "source": [
        "for x in range(5):\n",
        "  print(x)"
      ],
      "metadata": {
        "colab": {
          "base_uri": "https://localhost:8080/"
        },
        "id": "oN3G77KuUuZA",
        "outputId": "8f34dd78-3c32-4e42-c1cb-33a3b3998f29"
      },
      "execution_count": null,
      "outputs": [
        {
          "output_type": "stream",
          "name": "stdout",
          "text": [
            "0\n",
            "1\n",
            "2\n",
            "3\n",
            "4\n"
          ]
        }
      ]
    },
    {
      "cell_type": "code",
      "source": [
        "for y in range(2,7):\n",
        "  print(y)"
      ],
      "metadata": {
        "colab": {
          "base_uri": "https://localhost:8080/"
        },
        "id": "Mjqla4e5WMGC",
        "outputId": "3598d6ce-78e7-4318-e671-a67446fdbb77"
      },
      "execution_count": null,
      "outputs": [
        {
          "output_type": "stream",
          "name": "stdout",
          "text": [
            "2\n",
            "3\n",
            "4\n",
            "5\n",
            "6\n"
          ]
        }
      ]
    },
    {
      "cell_type": "code",
      "source": [
        "for z in range(1,11,2):\n",
        "  print(z)"
      ],
      "metadata": {
        "colab": {
          "base_uri": "https://localhost:8080/"
        },
        "id": "yeFXLrDTWUSN",
        "outputId": "0495ba4f-8304-4db8-a3a3-bd532fd951d9"
      },
      "execution_count": null,
      "outputs": [
        {
          "output_type": "stream",
          "name": "stdout",
          "text": [
            "1\n",
            "3\n",
            "5\n",
            "7\n",
            "9\n"
          ]
        }
      ]
    },
    {
      "cell_type": "code",
      "source": [
        "for numero in range(12,51):\n",
        "  if numero % 2 == 0:\n",
        "    print(\"o primeiro numeor é par é:\", numero)\n",
        "    break"
      ],
      "metadata": {
        "colab": {
          "base_uri": "https://localhost:8080/"
        },
        "id": "QEk9Wp-IWad9",
        "outputId": "2edf04fd-a110-40ad-bb85-8472835b2222"
      },
      "execution_count": null,
      "outputs": [
        {
          "output_type": "stream",
          "name": "stdout",
          "text": [
            "o primeiro numeor é par é: 12\n"
          ]
        }
      ]
    },
    {
      "cell_type": "code",
      "source": [
        "for numero in range(1,10):\n",
        "  if numero == 5:\n",
        "    continue\n",
        "  print(numero)\n"
      ],
      "metadata": {
        "colab": {
          "base_uri": "https://localhost:8080/"
        },
        "id": "A-8g2FwtWx_I",
        "outputId": "33a6fc50-7ad5-4920-8b74-104bb81e3b0d"
      },
      "execution_count": null,
      "outputs": [
        {
          "output_type": "stream",
          "name": "stdout",
          "text": [
            "1\n",
            "2\n",
            "3\n",
            "4\n",
            "6\n",
            "7\n",
            "8\n",
            "9\n"
          ]
        }
      ]
    },
    {
      "cell_type": "code",
      "source": [
        "#Lista de Filmes para classificação\n",
        "filmes = [\"Filme1\", \"Filme2\", \"Filme3\", \"Filme4\", \"Filme5\"]\n",
        "\n",
        "#Mensagem Boa vindas\n",
        "print(\"Bem-vindo à Classificaçã ode FIlmes!\")\n",
        "print(\"vc tem 3 filmes para classificar\")\n",
        "print(\"Digite 0 a qualquer momento para parar. \\n\")\n",
        "#Loop para interar sobre cada filme\n",
        "for filme in filmes:\n",
        "  classificacao = input(f\"Classifique o filme: '{filme}' de 1 a 5 (ou 0 para parar)\")\n",
        "\n",
        "  if classificacao == \"0\":\n",
        "    print (\"Que pena que você não irá classificar mais filmes\")\n",
        "    break\n",
        "\n",
        "  classificacao = int(classificacao)\n",
        "\n",
        "  if classificacao < 1 or classificacao > 5:\n",
        "    print(\"Classificação inválida. Por favor, digite um número de 1 a 5.\")\n",
        "  else:\n",
        "\n",
        "    print(f\"O filme '{filme}' foi classificado como {classificacao} estrelas.\")\n",
        "\n",
        "  print(\"Obrigado pro classificar os filmes\")\n"
      ],
      "metadata": {
        "colab": {
          "base_uri": "https://localhost:8080/"
        },
        "id": "3y_0Zt44XJKt",
        "outputId": "e08652fc-d3b8-4243-cb6a-26e74ba8558f"
      },
      "execution_count": null,
      "outputs": [
        {
          "output_type": "stream",
          "name": "stdout",
          "text": [
            "Bem-vindo à Classificaçã ode FIlmes!\n",
            "vc tem 3 filmes para classificar\n",
            "Digite 0 a qualquer momento para parar. \n",
            "\n",
            "Classifique o filme: 'Filme1' de 1 a 5 (ou 0 para parar)3\n",
            "O filme 'Filme1' foi classificado como 3 estrelas.\n",
            "Obrigado pro classificar os filmes\n",
            "Classifique o filme: 'Filme2' de 1 a 5 (ou 0 para parar)8\n",
            "Classificação inválida. Por favor, digite um número de 1 a 5.\n",
            "Obrigado pro classificar os filmes\n",
            "Classifique o filme: 'Filme3' de 1 a 5 (ou 0 para parar)5\n",
            "O filme 'Filme3' foi classificado como 5 estrelas.\n",
            "Obrigado pro classificar os filmes\n",
            "Classifique o filme: 'Filme4' de 1 a 5 (ou 0 para parar)4\n",
            "O filme 'Filme4' foi classificado como 4 estrelas.\n",
            "Obrigado pro classificar os filmes\n",
            "Classifique o filme: 'Filme5' de 1 a 5 (ou 0 para parar)0\n",
            "Que pena que você não irá classificar mais filmes\n"
          ]
        }
      ]
    },
    {
      "cell_type": "code",
      "source": [
        "a = int(input(\"Digite o primeiro número: \"))  # Converte a para inteiro\n",
        "b = int(input(\"Digite o segundo número: \"))  # Converte b para inteiro\n",
        "soma = a + b\n",
        "print(f\"A soma de {a} e {b} é: {soma}\")\n",
        "\n",
        "while True:\n",
        "    a = int(input(\"Digite o próximo número (ou 0 para sair): \"))\n",
        "    if a == 0:\n",
        "        break  # Sai do loop se o usuário digitar 0\n",
        "    b = int(input(\"Digite outro número: \"))\n",
        "\n",
        "    soma = a + b\n",
        "    print(f\"A soma de {a} e {b} é: {soma}\")\n"
      ],
      "metadata": {
        "colab": {
          "base_uri": "https://localhost:8080/",
          "height": 280
        },
        "id": "BukhdH4XtjWd",
        "outputId": "8bbb32de-ba8b-4c88-e4cc-58ced35d8a0b"
      },
      "execution_count": null,
      "outputs": [
        {
          "name": "stdout",
          "output_type": "stream",
          "text": [
            "Digite o primeiro número: 12\n",
            "Digite o segundo número: 17\n",
            "A soma de 12 e 17 é: 29\n",
            "Digite o próximo número (ou 0 para sair): ,\n"
          ]
        },
        {
          "output_type": "error",
          "ename": "ValueError",
          "evalue": "invalid literal for int() with base 10: ','",
          "traceback": [
            "\u001b[0;31m---------------------------------------------------------------------------\u001b[0m",
            "\u001b[0;31mValueError\u001b[0m                                Traceback (most recent call last)",
            "\u001b[0;32m<ipython-input-4-4854b8bd2f5b>\u001b[0m in \u001b[0;36m<cell line: 6>\u001b[0;34m()\u001b[0m\n\u001b[1;32m      5\u001b[0m \u001b[0;34m\u001b[0m\u001b[0m\n\u001b[1;32m      6\u001b[0m \u001b[0;32mwhile\u001b[0m \u001b[0;32mTrue\u001b[0m\u001b[0;34m:\u001b[0m\u001b[0;34m\u001b[0m\u001b[0;34m\u001b[0m\u001b[0m\n\u001b[0;32m----> 7\u001b[0;31m     \u001b[0ma\u001b[0m \u001b[0;34m=\u001b[0m \u001b[0mint\u001b[0m\u001b[0;34m(\u001b[0m\u001b[0minput\u001b[0m\u001b[0;34m(\u001b[0m\u001b[0;34m\"Digite o próximo número (ou 0 para sair): \"\u001b[0m\u001b[0;34m)\u001b[0m\u001b[0;34m)\u001b[0m\u001b[0;34m\u001b[0m\u001b[0;34m\u001b[0m\u001b[0m\n\u001b[0m\u001b[1;32m      8\u001b[0m     \u001b[0;32mif\u001b[0m \u001b[0ma\u001b[0m \u001b[0;34m==\u001b[0m \u001b[0;36m0\u001b[0m\u001b[0;34m:\u001b[0m\u001b[0;34m\u001b[0m\u001b[0;34m\u001b[0m\u001b[0m\n\u001b[1;32m      9\u001b[0m         \u001b[0;32mbreak\u001b[0m  \u001b[0;31m# Sai do loop se o usuário digitar 0\u001b[0m\u001b[0;34m\u001b[0m\u001b[0;34m\u001b[0m\u001b[0m\n",
            "\u001b[0;31mValueError\u001b[0m: invalid literal for int() with base 10: ','"
          ]
        }
      ]
    },
    {
      "cell_type": "code",
      "source": [
        "notas_aluno = [float(input()), float(input()), float(input()), float(input()),float(input())]\n",
        "\n",
        "def media(notas):\n",
        "  soma = 0\n",
        "  for nota in notas:\n",
        "    soma += float(nota)\n",
        "  return soma\n",
        "\n",
        "nota_total = media(notas_aluno)\n",
        "nota_media = lambda nota_total: nota_total/len(notas_aluno)\n",
        "mediaaprovacao = int(input(\"Digite a média de aprovação: \"))\n",
        "\n",
        "print(f'As notas do aluno são: {notas_aluno}')\n",
        "print(f'A média das notas é: {resultado}')\n",
        "print(f\"Aprovado\" if resultado >= mediaaprovacao else \"Reprovado\")  # Condicional para aprovação\n"
      ],
      "metadata": {
        "colab": {
          "base_uri": "https://localhost:8080/"
        },
        "id": "Mm-RG4ukDfwQ",
        "outputId": "6bc4eb14-49c3-470f-b17b-c42e96b5822e"
      },
      "execution_count": null,
      "outputs": [
        {
          "output_type": "stream",
          "name": "stdout",
          "text": [
            "5\n",
            "5\n",
            "6\n",
            "9\n",
            "7\n",
            "Digite a média de aprovação: 6\n",
            "As notas do aluno são: [5.0, 5.0, 6.0, 9.0, 7.0]\n",
            "A média das notas é: 7.0\n",
            "Aprovado\n"
          ]
        }
      ]
    },
    {
      "cell_type": "code",
      "source": [
        "def dobrar(numero):\n",
        "  return numero * 2\n"
      ],
      "metadata": {
        "id": "b5i9PK_2Q1sL"
      },
      "execution_count": null,
      "outputs": []
    },
    {
      "cell_type": "code",
      "source": [
        "numeros = [1, 2, 3, 4, 5]\n",
        "resultados = map(dobrar, numeros)  # Aplica a função \"dobrar\" a cada número na lista\n",
        "print(list(resultados))  # Converte o resultado em uma lista e imprime"
      ],
      "metadata": {
        "colab": {
          "base_uri": "https://localhost:8080/"
        },
        "id": "tkF_FRZUQvjL",
        "outputId": "1e23b254-67e7-48b3-8e7a-5a306a94edb2"
      },
      "execution_count": null,
      "outputs": [
        {
          "output_type": "stream",
          "name": "stdout",
          "text": [
            "[2, 4, 6, 8, 10]\n"
          ]
        }
      ]
    },
    {
      "cell_type": "code",
      "source": [],
      "metadata": {
        "id": "zl0tLo6ySRca",
        "colab": {
          "base_uri": "https://localhost:8080/",
          "height": 106
        },
        "outputId": "b8cc0541-f77f-472e-c294-69f430237715"
      },
      "execution_count": null,
      "outputs": [
        {
          "output_type": "error",
          "ename": "SyntaxError",
          "evalue": "invalid syntax (<ipython-input-5-b9af46db9b2c>, line 1)",
          "traceback": [
            "\u001b[0;36m  File \u001b[0;32m\"<ipython-input-5-b9af46db9b2c>\"\u001b[0;36m, line \u001b[0;32m1\u001b[0m\n\u001b[0;31m    Gravar nota em uma lista  e fazer media e verificar se aprovado ou reprovado\u001b[0m\n\u001b[0m           ^\u001b[0m\n\u001b[0;31mSyntaxError\u001b[0m\u001b[0;31m:\u001b[0m invalid syntax\n"
          ]
        }
      ]
    }
  ]
}