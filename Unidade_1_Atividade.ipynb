{
  "nbformat": 4,
  "nbformat_minor": 0,
  "metadata": {
    "colab": {
      "provenance": [],
      "authorship_tag": "ABX9TyMa1dk1FVaFbX+kTRvXuTas",
      "include_colab_link": true
    },
    "kernelspec": {
      "name": "python3",
      "display_name": "Python 3"
    },
    "language_info": {
      "name": "python"
    }
  },
  "cells": [
    {
      "cell_type": "markdown",
      "metadata": {
        "id": "view-in-github",
        "colab_type": "text"
      },
      "source": [
        "<a href=\"https://colab.research.google.com/github/phaeljf/FaculdadeADS/blob/main/Unidade_1_Atividade.ipynb\" target=\"_parent\"><img src=\"https://colab.research.google.com/assets/colab-badge.svg\" alt=\"Open In Colab\"/></a>"
      ]
    },
    {
      "cell_type": "markdown",
      "source": [
        "Atividade Proposta\n",
        "Você foi contratado para desenvolver um sistema simples de gestão de notas de alunos. O sistema deve permitir que o usuário adicione notas, calcule a média das notas, determine a situação do aluno (aprovado ou reprovado), e exiba um relatório final. Utilize estruturas condicionais, de repetição e funções.\n",
        "Cadastro de Notas:\n",
        "• O sistema deve permitir que o usuário insira as notas dos alunos.\n",
        "• As notas devem ser armazenadas em uma lista.\n",
        "Cálculo da Média:\n",
        "• O sistema deve calcular a média das notas inseridas.\n",
        "Determinação da Situação:\n",
        "• Se a média for maior ou igual a 7, o aluno está aprovado.\n",
        "• Se a média for menor que 7, o aluno está reprovado.\n",
        "Relatório Final:\n",
        "• Exibir as notas inseridas, a média e a situação do aluno."
      ],
      "metadata": {
        "id": "zlLoa_VjSaaU"
      }
    },
    {
      "cell_type": "code",
      "execution_count": null,
      "metadata": {
        "id": "XOd9LOTSSWq7"
      },
      "outputs": [],
      "source": [
        "#1 - Inicialização de uma lista vazia\n",
        "notas = []\n",
        "\n",
        "#2 - Inicializa variável 'entrada' que será usada para verificar valores de entada que usuário digitar\n",
        "entrada = \"\"\n",
        "\n",
        "#3 - Loop para insrir as notas na lista até usuário digitar sair\n",
        "while entrada.lower() != \"sair\": # Usando .lower para assim conseguir obter a opção sair independente da forma que o usuário digitar\n",
        "    entrada = input(\"Digite uma nota ou 'sair' para encerrar: \") # Pede ao usuário para digitar a nota ou sair\n",
        "    # Verifica se o usuário deseja encerrar a inserção de notas\n",
        "    if entrada.lower() != \"sair\":\n",
        "        try:\n",
        "            # Converte a entrada em um número e adicionar à lista de notas\n",
        "            nota = float(entrada)\n",
        "            notas.append(nota)\n",
        "\n",
        "        # Informa ao usuário se a entrada não for um número\n",
        "        except ValueError:\n",
        "            print(\"Digite uma nota numérica ou 'sair' para encerrar.\")\n",
        "\n",
        "# Calcula a média da nota\n",
        "media = sum(notas) / len(notas)\n",
        "\n",
        "# Determina se aluno será aprovado ou reprovado\n",
        "resultado = \"Aprovado\" if media >= 7 else \"Reprovado\""
      ]
    },
    {
      "cell_type": "code",
      "source": [
        "# Relatório final com as nots inseridas, a média e a situação do aluno\n",
        "print(\"Notas inseridas:\", notas)\n",
        "print(\"Média:\", media)\n",
        "print(\"Situação:\", resultado)"
      ],
      "metadata": {
        "colab": {
          "base_uri": "https://localhost:8080/"
        },
        "id": "eZO7qFmbVUTb",
        "outputId": "a625b6b4-24ea-4b6d-aedf-1d6ab9fdefb5"
      },
      "execution_count": null,
      "outputs": [
        {
          "output_type": "stream",
          "name": "stdout",
          "text": [
            "Notas inseridas: [9.0, 7.0, 6.91, 7.54562348]\n",
            "Média: 7.61390587\n",
            "Situação: Aprovado\n"
          ]
        }
      ]
    }
  ]
}