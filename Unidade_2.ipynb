{
  "nbformat": 4,
  "nbformat_minor": 0,
  "metadata": {
    "colab": {
      "provenance": [],
      "authorship_tag": "ABX9TyMSll9fFeegMouqQBfsl5xG",
      "include_colab_link": true
    },
    "kernelspec": {
      "name": "python3",
      "display_name": "Python 3"
    },
    "language_info": {
      "name": "python"
    }
  },
  "cells": [
    {
      "cell_type": "markdown",
      "metadata": {
        "id": "view-in-github",
        "colab_type": "text"
      },
      "source": [
        "<a href=\"https://colab.research.google.com/github/phaeljf/FaculdadeADS/blob/main/Unidade_2.ipynb\" target=\"_parent\"><img src=\"https://colab.research.google.com/assets/colab-badge.svg\" alt=\"Open In Colab\"/></a>"
      ]
    },
    {
      "cell_type": "code",
      "execution_count": null,
      "metadata": {
        "colab": {
          "base_uri": "https://localhost:8080/"
        },
        "id": "Y5HwR7MPQbMt",
        "outputId": "1b86aca8-fe41-406f-c010-e9db452ade6f"
      },
      "outputs": [
        {
          "output_type": "stream",
          "name": "stdout",
          "text": [
            "Tamanho do texto = 78\n",
            "Python aparece no texto? True\n",
            "Quantidade de e no texto = 7\n",
            "As 5 primeiras letras são: Esse \n",
            "Digite o que deseja procurar: poder\n",
            "A palavra 'poder' aparece 1 vezes no texto.\n"
          ]
        }
      ],
      "source": [
        "texto = \"Esse é um exemplo de como poder utilizar Python procuras e listas e blablabla.\"\n",
        "\n",
        "print(f\"Tamanho do texto = {len(texto)}\")\n",
        "print(f\"Python aparece no texto? {'Python' in texto}\")\n",
        "print(f\"Quantidade de e no texto = {texto.count('e')}\")\n",
        "print(f\"As 5 primeiras letras são: {texto[:5]}\")\n",
        "\n",
        "procura = input(\"Digite o que deseja procurar: \")\n",
        "\n",
        "print(f\"A palavra '{procura}' aparece {texto.count(procura)} vezes no texto.\")"
      ]
    },
    {
      "cell_type": "code",
      "source": [
        "texto [2]"
      ],
      "metadata": {
        "colab": {
          "base_uri": "https://localhost:8080/",
          "height": 35
        },
        "id": "4Tt3Ie_7Sgez",
        "outputId": "ecf88275-1cc6-42fc-a1e0-164030d9fac2"
      },
      "execution_count": null,
      "outputs": [
        {
          "output_type": "execute_result",
          "data": {
            "text/plain": [
              "'s'"
            ],
            "application/vnd.google.colaboratory.intrinsic+json": {
              "type": "string"
            }
          },
          "metadata": {},
          "execution_count": 3
        }
      ]
    },
    {
      "cell_type": "code",
      "source": [
        "cores = ['vermelho', 'azul', 'verde', 'amarelo']\n",
        "for cor in cores:\n",
        "    print(f'Posição = {cores.index(cor)}, cor = {cor}')"
      ],
      "metadata": {
        "colab": {
          "base_uri": "https://localhost:8080/"
        },
        "id": "OvvB-lvjSmv5",
        "outputId": "0b711d78-49f5-4bc9-8665-dd98419ea3fb"
      },
      "execution_count": null,
      "outputs": [
        {
          "output_type": "stream",
          "name": "stdout",
          "text": [
            "Posição = 0, cor = vermelho\n",
            "Posição = 1, cor = azul\n",
            "Posição = 2, cor = verde\n",
            "Posição = 3, cor = amarelo\n"
          ]
        }
      ]
    },
    {
      "cell_type": "markdown",
      "source": [
        "Lista de pessaos de uma festa\n",
        "\n",
        "Tem qeu identificar quem confirmou a presença\n",
        "\n",
        "Tem qeu que identificar quem não confirmou e convidar novamente\n"
      ],
      "metadata": {
        "id": "5HQieeaNVLTh"
      }
    },
    {
      "cell_type": "code",
      "source": [
        "convidados = ['João', 'Maria', 'José', 'Ana', 'Pedro']\n",
        "confirmado = []\n",
        "nao_confirmados = []\n",
        "x = \"\"\n",
        "\n",
        "while x.lower() != \"sair\":\n",
        "    x = input('Digite o nome do convidado confirmado ou sair para sair: ')\n",
        "\n",
        "    if x.lower() != \"sair\":\n",
        "        confirmado.append(x)\n",
        "\n",
        "não_confirmados = [convidado for convidado in convidados if convidado not in confirmado]\n",
        "\n",
        "print(f'Convidados confirmados: {confirmado}')\n",
        "print(f'Convidados não confirmados: {nao_confirmados}')\n",
        "\n",
        "for pessoa in não_confirmados:\n"
      ],
      "metadata": {
        "colab": {
          "base_uri": "https://localhost:8080/"
        },
        "id": "IrMNpvfLUaga",
        "outputId": "78624b88-2cff-4154-f17f-df6c2202b5b6"
      },
      "execution_count": null,
      "outputs": [
        {
          "output_type": "stream",
          "name": "stdout",
          "text": [
            "Digite o nome do convidado confirmado ou sair para sair: Maria\n",
            "Digite o nome do convidado confirmado ou sair para sair: Ana\n",
            "Digite o nome do convidado confirmado ou sair para sair: Sair\n",
            "Convidados confirmados: ['Maria', 'Ana']\n",
            "Convidados não confirmados: []\n"
          ]
        }
      ]
    },
    {
      "cell_type": "code",
      "source": [
        "######## LISTA CONVIDADOS\n",
        "convidados = []\n",
        "x = \"\"\n",
        "\n",
        "while x.lower() != \"sair\":\n",
        "    x = input('Digite o nome do convidado ou sair para sair: ')\n",
        "\n",
        "    if x.lower() != \"sair\":\n",
        "      convidados.append(x)\n",
        "\n",
        "lista_convidados = input(\"Deseja imprimir a lista de convidados? (s/n)\")\n",
        "\n",
        "if lista_convidados.lower() == \"s\":\n",
        "    print(f\"Convidados: {convidados}\")\n",
        "else:\n",
        "    print(\"Lista de convidados não será exibida.\")\n",
        "\n",
        "######## LISTA CONVIDADOS CONFIRMADOS\n",
        "convidados_confirmados = []\n",
        "y = \"\"\n",
        "\n",
        "while y.lower() != \"sair\":\n",
        "    y = input('Digite o nome do convidado confirmado ou sair para sair: ')\n",
        "\n",
        "    if y.lower() != \"sair\":\n",
        "        if y in convidados:\n",
        "            convidados_confirmados.append(y)\n",
        "        else:\n",
        "            print(f\"O convidado {y} não está na lista de convidados e não pode ser confirmado.\")\n",
        "\n",
        "lista_convidados_confirmado = input(\"Deseja imprimir a lista de convidados confirmados? (s/n)\")\n",
        "\n",
        "if lista_convidados_confirmado.lower() == \"s\":\n",
        "    print(f\"Convidados confirmados: {convidados_confirmados}\")\n",
        "else:\n",
        "    print(\"Lista de convidados confirmados não será exibida.\")\n",
        "\n",
        "######## LISTA CONVIDADOS NÃO CONFIRMADOS\n",
        "convidados_nao_confirmados = [convidado for convidado in convidados if convidado not in convidados_confirmados]\n",
        "\n",
        "lista_nao_confirmados = input(\"\\nDeseja imprimir a lista de convidados não confirmados? (s/n): \")\n",
        "\n",
        "if lista_nao_confirmados.lower() == \"s\":\n",
        "    print(f\"Convidados não confirmados: {convidados_nao_confirmados}\")\n",
        "else:\n",
        "    print(\"Lista de convidados não confirmados não será exibida.\")\n",
        "\n",
        "######## MENSAGEM PARA NÃO CONFIRMADOS\n",
        "mensagem_nao_confirmados = input(\"\\nDeseja enviar uma mensagem para cada convidado não confirmados? (s/n): \")\n",
        "\n",
        "if lista_nao_confirmados.lower() == \"s\":\n",
        "    mensagem = input(\"Digite a mensagem que deseja enviar: \")\n",
        "    for convidado in convidados_nao_confirmados:\n",
        "        print(f\"Mensagem enviada para {convidado}: {mensagem}\")\n"
      ],
      "metadata": {
        "colab": {
          "base_uri": "https://localhost:8080/",
          "height": 356
        },
        "id": "zvWfwsEoZQAD",
        "outputId": "a2d7f466-7d8f-4ae8-c7c4-ff623018d592"
      },
      "execution_count": null,
      "outputs": [
        {
          "output_type": "error",
          "ename": "KeyboardInterrupt",
          "evalue": "Interrupted by user",
          "traceback": [
            "\u001b[0;31m---------------------------------------------------------------------------\u001b[0m",
            "\u001b[0;31mKeyboardInterrupt\u001b[0m                         Traceback (most recent call last)",
            "\u001b[0;32m<ipython-input-2-3bdf040b35b1>\u001b[0m in \u001b[0;36m<cell line: 5>\u001b[0;34m()\u001b[0m\n\u001b[1;32m      4\u001b[0m \u001b[0;34m\u001b[0m\u001b[0m\n\u001b[1;32m      5\u001b[0m \u001b[0;32mwhile\u001b[0m \u001b[0mx\u001b[0m\u001b[0;34m.\u001b[0m\u001b[0mlower\u001b[0m\u001b[0;34m(\u001b[0m\u001b[0;34m)\u001b[0m \u001b[0;34m!=\u001b[0m \u001b[0;34m\"sair\"\u001b[0m\u001b[0;34m:\u001b[0m\u001b[0;34m\u001b[0m\u001b[0;34m\u001b[0m\u001b[0m\n\u001b[0;32m----> 6\u001b[0;31m     \u001b[0mx\u001b[0m \u001b[0;34m=\u001b[0m \u001b[0minput\u001b[0m\u001b[0;34m(\u001b[0m\u001b[0;34m'Digite o nome do convidado ou sair para sair: '\u001b[0m\u001b[0;34m)\u001b[0m\u001b[0;34m\u001b[0m\u001b[0;34m\u001b[0m\u001b[0m\n\u001b[0m\u001b[1;32m      7\u001b[0m \u001b[0;34m\u001b[0m\u001b[0m\n\u001b[1;32m      8\u001b[0m     \u001b[0;32mif\u001b[0m \u001b[0mx\u001b[0m\u001b[0;34m.\u001b[0m\u001b[0mlower\u001b[0m\u001b[0;34m(\u001b[0m\u001b[0;34m)\u001b[0m \u001b[0;34m!=\u001b[0m \u001b[0;34m\"sair\"\u001b[0m\u001b[0;34m:\u001b[0m\u001b[0;34m\u001b[0m\u001b[0;34m\u001b[0m\u001b[0m\n",
            "\u001b[0;32m/usr/local/lib/python3.10/dist-packages/ipykernel/kernelbase.py\u001b[0m in \u001b[0;36mraw_input\u001b[0;34m(self, prompt)\u001b[0m\n\u001b[1;32m    849\u001b[0m                 \u001b[0;34m\"raw_input was called, but this frontend does not support input requests.\"\u001b[0m\u001b[0;34m\u001b[0m\u001b[0;34m\u001b[0m\u001b[0m\n\u001b[1;32m    850\u001b[0m             )\n\u001b[0;32m--> 851\u001b[0;31m         return self._input_request(str(prompt),\n\u001b[0m\u001b[1;32m    852\u001b[0m             \u001b[0mself\u001b[0m\u001b[0;34m.\u001b[0m\u001b[0m_parent_ident\u001b[0m\u001b[0;34m,\u001b[0m\u001b[0;34m\u001b[0m\u001b[0;34m\u001b[0m\u001b[0m\n\u001b[1;32m    853\u001b[0m             \u001b[0mself\u001b[0m\u001b[0;34m.\u001b[0m\u001b[0m_parent_header\u001b[0m\u001b[0;34m,\u001b[0m\u001b[0;34m\u001b[0m\u001b[0;34m\u001b[0m\u001b[0m\n",
            "\u001b[0;32m/usr/local/lib/python3.10/dist-packages/ipykernel/kernelbase.py\u001b[0m in \u001b[0;36m_input_request\u001b[0;34m(self, prompt, ident, parent, password)\u001b[0m\n\u001b[1;32m    893\u001b[0m             \u001b[0;32mexcept\u001b[0m \u001b[0mKeyboardInterrupt\u001b[0m\u001b[0;34m:\u001b[0m\u001b[0;34m\u001b[0m\u001b[0;34m\u001b[0m\u001b[0m\n\u001b[1;32m    894\u001b[0m                 \u001b[0;31m# re-raise KeyboardInterrupt, to truncate traceback\u001b[0m\u001b[0;34m\u001b[0m\u001b[0;34m\u001b[0m\u001b[0m\n\u001b[0;32m--> 895\u001b[0;31m                 \u001b[0;32mraise\u001b[0m \u001b[0mKeyboardInterrupt\u001b[0m\u001b[0;34m(\u001b[0m\u001b[0;34m\"Interrupted by user\"\u001b[0m\u001b[0;34m)\u001b[0m \u001b[0;32mfrom\u001b[0m \u001b[0;32mNone\u001b[0m\u001b[0;34m\u001b[0m\u001b[0;34m\u001b[0m\u001b[0m\n\u001b[0m\u001b[1;32m    896\u001b[0m             \u001b[0;32mexcept\u001b[0m \u001b[0mException\u001b[0m \u001b[0;32mas\u001b[0m \u001b[0me\u001b[0m\u001b[0;34m:\u001b[0m\u001b[0;34m\u001b[0m\u001b[0;34m\u001b[0m\u001b[0m\n\u001b[1;32m    897\u001b[0m                 \u001b[0mself\u001b[0m\u001b[0;34m.\u001b[0m\u001b[0mlog\u001b[0m\u001b[0;34m.\u001b[0m\u001b[0mwarning\u001b[0m\u001b[0;34m(\u001b[0m\u001b[0;34m\"Invalid Message:\"\u001b[0m\u001b[0;34m,\u001b[0m \u001b[0mexc_info\u001b[0m\u001b[0;34m=\u001b[0m\u001b[0;32mTrue\u001b[0m\u001b[0;34m)\u001b[0m\u001b[0;34m\u001b[0m\u001b[0;34m\u001b[0m\u001b[0m\n",
            "\u001b[0;31mKeyboardInterrupt\u001b[0m: Interrupted by user"
          ]
        }
      ]
    }
  ]
}